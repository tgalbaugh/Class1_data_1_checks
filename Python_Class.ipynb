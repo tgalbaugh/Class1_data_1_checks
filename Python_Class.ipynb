{
  "nbformat": 4,
  "nbformat_minor": 0,
  "metadata": {
    "colab": {
      "name": "Python Class.ipynb",
      "provenance": [],
      "authorship_tag": "ABX9TyODRfpsa/OrjuXIjID2OUtY",
      "include_colab_link": true
    },
    "kernelspec": {
      "name": "python3",
      "display_name": "Python 3"
    },
    "language_info": {
      "name": "python"
    }
  },
  "cells": [
    {
      "cell_type": "markdown",
      "metadata": {
        "id": "view-in-github",
        "colab_type": "text"
      },
      "source": [
        "<a href=\"https://colab.research.google.com/github/tgalbaugh/data_1_checks/blob/main/Python_Class.ipynb\" target=\"_parent\"><img src=\"https://colab.research.google.com/assets/colab-badge.svg\" alt=\"Open In Colab\"/></a>"
      ]
    },
    {
      "cell_type": "code",
      "source": [
        "#1\n",
        "print(\"Hello World\")"
      ],
      "metadata": {
        "colab": {
          "base_uri": "https://localhost:8080/"
        },
        "id": "40XFktk8Urwx",
        "outputId": "ea11fe8c-3c22-494c-bd55-7cd4947fe51f"
      },
      "execution_count": 7,
      "outputs": [
        {
          "output_type": "stream",
          "name": "stdout",
          "text": [
            "Hello World\n"
          ]
        }
      ]
    },
    {
      "cell_type": "code",
      "source": [
        "#2\n",
        "list =[1,2,3,4]\n",
        "print(list[2])"
      ],
      "metadata": {
        "colab": {
          "base_uri": "https://localhost:8080/"
        },
        "id": "CwR0OaEeUyG8",
        "outputId": "8b88211c-ccbb-4455-b65c-2c8f32ce8826"
      },
      "execution_count": 8,
      "outputs": [
        {
          "output_type": "stream",
          "name": "stdout",
          "text": [
            "3\n"
          ]
        }
      ]
    },
    {
      "cell_type": "code",
      "source": [
        "#3\n",
        "dictionary = {\n",
        "  \"FirstName\" : \"Tim\"\n",
        "  ,\"LastName\" : \"Galbaugh\"\n",
        "  ,\"HeightInches\" : 70\n",
        "}\n",
        "print(dictionary[\"FirstName\"])"
      ],
      "metadata": {
        "colab": {
          "base_uri": "https://localhost:8080/"
        },
        "id": "-RexyPB5VDOR",
        "outputId": "9ae9b4df-8d0c-466b-c073-f0d953788858"
      },
      "execution_count": 16,
      "outputs": [
        {
          "output_type": "stream",
          "name": "stdout",
          "text": [
            "Tim\n"
          ]
        }
      ]
    }
  ]
}